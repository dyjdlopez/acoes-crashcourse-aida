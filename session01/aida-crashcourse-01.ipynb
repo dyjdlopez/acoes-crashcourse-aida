{
  "nbformat": 4,
  "nbformat_minor": 0,
  "metadata": {
    "colab": {
      "name": "How to win at ML Day 1 - Fundamentals of AI and Python",
      "provenance": [],
      "authorship_tag": "ABX9TyObpAkk1boNUQgqXyaHM4sn",
      "include_colab_link": true
    },
    "kernelspec": {
      "name": "python3",
      "display_name": "Python 3"
    },
    "language_info": {
      "name": "python"
    }
  },
  "cells": [
    {
      "cell_type": "markdown",
      "metadata": {
        "id": "view-in-github",
        "colab_type": "text"
      },
      "source": [
        "<a href=\"https://colab.research.google.com/github/dyjdlopez/acoes-crashcourse-aida/blob/main/session01/aida-crashcourse-01.ipynb\" target=\"_parent\"><img src=\"https://colab.research.google.com/assets/colab-badge.svg\" alt=\"Open In Colab\"/></a>"
      ]
    },
    {
      "cell_type": "markdown",
      "metadata": {
        "id": "u2G9YqvLrMVu"
      },
      "source": [
        "# How do you really win at ML (Machine Learning)? Session 1\n",
        "\n",
        "Aside from learning the math this session we need to brush up our programming using Python. The whole session will be using Python so to catch up lets recalibrate the Pythonista in you."
      ]
    },
    {
      "cell_type": "markdown",
      "metadata": {
        "id": "x6wXkMSnrgeF"
      },
      "source": [
        "## Part 1: Variables and Data Types"
      ]
    },
    {
      "cell_type": "code",
      "metadata": {
        "id": "HR6wlBs8pks4"
      },
      "source": [
        ""
      ],
      "execution_count": null,
      "outputs": []
    },
    {
      "cell_type": "markdown",
      "metadata": {
        "id": "tqdtquDFrtFt"
      },
      "source": [
        "## Part 2: Saying Hello World"
      ]
    },
    {
      "cell_type": "code",
      "metadata": {
        "id": "b2xejh3Irsj1"
      },
      "source": [
        ""
      ],
      "execution_count": null,
      "outputs": []
    },
    {
      "cell_type": "markdown",
      "metadata": {
        "id": "HVoG_uyytBeN"
      },
      "source": [
        "## Part 3: Doctor Doctor (Operations)"
      ]
    },
    {
      "cell_type": "code",
      "metadata": {
        "id": "dC85FR9jtARd"
      },
      "source": [
        ""
      ],
      "execution_count": null,
      "outputs": []
    },
    {
      "cell_type": "markdown",
      "metadata": {
        "id": "dQVD0e7urwSO"
      },
      "source": [
        "## Part 4: The Mind Behind the AI (The Conditions)"
      ]
    },
    {
      "cell_type": "code",
      "metadata": {
        "id": "r8YD5LLorvyt"
      },
      "source": [
        ""
      ],
      "execution_count": null,
      "outputs": []
    },
    {
      "cell_type": "markdown",
      "metadata": {
        "id": "GwX2Xc4Fr2cO"
      },
      "source": [
        "## Part 5: Say What Again (Iterations and Iterables)"
      ]
    },
    {
      "cell_type": "code",
      "metadata": {
        "id": "LxediAger2FV"
      },
      "source": [
        ""
      ],
      "execution_count": null,
      "outputs": []
    },
    {
      "cell_type": "markdown",
      "metadata": {
        "id": "qlmoaTmer62t"
      },
      "source": [
        "## Part 6: I Double Dare You (Functions and Repeatability)"
      ]
    },
    {
      "cell_type": "code",
      "metadata": {
        "id": "7zAcAdFir_ht"
      },
      "source": [
        ""
      ],
      "execution_count": null,
      "outputs": []
    },
    {
      "cell_type": "markdown",
      "metadata": {
        "id": "ugc5bcIJsdfO"
      },
      "source": [
        "## Part 7: A Part of You (Objects, Methods, and Modules)"
      ]
    },
    {
      "cell_type": "code",
      "metadata": {
        "id": "ToPW7XvBsc8m"
      },
      "source": [
        ""
      ],
      "execution_count": null,
      "outputs": []
    }
  ]
}